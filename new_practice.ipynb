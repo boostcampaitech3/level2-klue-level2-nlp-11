{
 "cells": [
  {
   "cell_type": "code",
   "execution_count": 1,
   "id": "309c8b65-5a14-4ac9-8f5f-c6f75e3e955b",
   "metadata": {},
   "outputs": [
    {
     "name": "stderr",
     "output_type": "stream",
     "text": [
      "2022-03-29 13:35:34.524467: I tensorflow/stream_executor/platform/default/dso_loader.cc:53] Successfully opened dynamic library libcudart.so.11.0\n"
     ]
    }
   ],
   "source": [
    "import pickle as pickle\n",
    "import os\n",
    "import pandas as pd\n",
    "import torch\n",
    "import sklearn\n",
    "import numpy as np\n",
    "from sklearn.metrics import accuracy_score, recall_score, precision_score, f1_score\n",
    "from transformers import AutoTokenizer, AutoConfig, AutoModelForSequenceClassification, AutoModelForTokenClassification, Trainer, TrainingArguments, RobertaConfig, RobertaTokenizer, RobertaForSequenceClassification, BertTokenizer\n",
    "from load_data import *\n",
    "from entity_model import *\n",
    "from embeddings import *\n",
    "import torch.nn.functional as F\n",
    "from transformers.activations import ACT2FN"
   ]
  },
  {
   "cell_type": "code",
   "execution_count": 2,
   "id": "99fbf0b3-496c-42ad-899f-ab40c53c7a52",
   "metadata": {},
   "outputs": [],
   "source": [
    "def label_to_num(label):\n",
    "  num_label = []\n",
    "  with open('dict_label_to_num.pkl', 'rb') as f:\n",
    "    dict_label_to_num = pickle.load(f)\n",
    "  for v in label:\n",
    "    num_label.append(dict_label_to_num[v])\n",
    "  return num_label"
   ]
  },
  {
   "cell_type": "code",
   "execution_count": 3,
   "id": "25c2fc18-83c7-4004-81d3-17ebeec24460",
   "metadata": {},
   "outputs": [],
   "source": [
    "#MODEL_NAME = 'klue/roberta-base'\n",
    "MODEL_NAME = 'monologg/kobigbird-bert-base'\n",
    "model_config =  AutoConfig.from_pretrained(MODEL_NAME)\n",
    "device = torch.device('cuda:0' if torch.cuda.is_available() else 'cpu')"
   ]
  },
  {
   "cell_type": "code",
   "execution_count": 4,
   "id": "a8303436-c650-4c5f-a8e5-5406289ba8eb",
   "metadata": {},
   "outputs": [],
   "source": [
    "#MODEL_NAME = 'klue/roberta-base'\n",
    "MODEL_NAME = 'monologg/kobigbird-bert-base'\n",
    "tokenizer = AutoTokenizer.from_pretrained('/opt/ml/code/vocabs')\n",
    "train_dataset = load_data(\"/opt/ml/dataset/train/train.csv\")\n",
    "train_label = label_to_num(train_dataset['label'].values)\n",
    "\n",
    "tokenized_train = tokenized_dataset(train_dataset, tokenizer)\n",
    "\n",
    "RE_train_dataset = RE_Dataset(tokenized_train, train_label)\n",
    "device = torch.device('cuda:0' if torch.cuda.is_available() else 'cpu')\n",
    "model_config =  AutoConfig.from_pretrained(MODEL_NAME)\n",
    "model_config.num_labels = 30\n"
   ]
  },
  {
   "cell_type": "code",
   "execution_count": 5,
   "id": "da75eeef-c863-438d-941f-9dbc2ce5b071",
   "metadata": {},
   "outputs": [],
   "source": [
    "input_ids = tokenized_train['input_ids'][:10].to(device)\n",
    "attention_mask = tokenized_train['attention_mask'][:10].to(device)\n",
    "token_type_ids = tokenized_train['token_type_ids'][:10].to(device)\n",
    "sub_mask = tokenized_train['sub_mask'][:10].to(device)\n",
    "obj_mask = tokenized_train['obj_mask'][:10].to(device)\n",
    "labels = torch.tensor(train_label[:10]).to(device)"
   ]
  },
  {
   "cell_type": "code",
   "execution_count": null,
   "id": "9d35a03d-d2b0-47c0-8006-9546d74e0e64",
   "metadata": {},
   "outputs": [],
   "source": [
    "model = Entity_Embedding_Model(model_config,0.1)\n",
    "model.parameters\n",
    "model.to(device)"
   ]
  },
  {
   "cell_type": "code",
   "execution_count": 25,
   "id": "671f14f3-d9e6-48ac-8e4a-fbadc395fe7d",
   "metadata": {},
   "outputs": [
    {
     "name": "stderr",
     "output_type": "stream",
     "text": [
      "Attention type 'block_sparse' is not possible if sequence_length: 238 <= num global tokens: 2 * config.block_size + min. num sliding tokens: 3 * config.block_size + config.num_random_blocks * config.block_size + additional buffer: config.num_random_blocks * config.block_size = 704 with config.block_size = 64, config.num_random_blocks = 3. Changing attention type to 'original_full'...\n"
     ]
    },
    {
     "data": {
      "text/plain": [
       "(tensor(3.4000, device='cuda:0', grad_fn=<NllLossBackward>),\n",
       " tensor([[ 9.5655e-02, -6.8037e-02,  1.6411e-01, -1.3122e-02,  1.7444e-01,\n",
       "           7.7310e-02, -3.3407e-01, -1.6512e-01,  5.0258e-02, -6.3516e-02,\n",
       "           1.8311e-01,  3.3753e-02, -1.1108e-01,  4.5100e-02,  6.2420e-02,\n",
       "          -7.0726e-02, -3.2950e-02,  6.4919e-02, -1.0130e-02, -4.1956e-03,\n",
       "           1.9028e-01, -6.2661e-02, -1.7565e-01,  4.2464e-02, -1.2685e-02,\n",
       "          -8.9916e-02, -5.9184e-02,  6.0081e-02,  1.2473e-01, -6.0406e-04],\n",
       "         [ 1.4417e-01, -1.0949e-04,  1.3923e-01, -1.5134e-02,  1.5245e-01,\n",
       "           2.2181e-02, -3.2587e-01, -2.2573e-01,  5.7637e-02, -1.3350e-02,\n",
       "           1.5771e-01,  8.3234e-02, -1.4571e-01,  2.4053e-02,  1.3242e-01,\n",
       "          -9.5140e-02,  1.9936e-02,  7.9553e-02,  1.1668e-01, -2.3917e-03,\n",
       "           1.0415e-01,  9.5021e-02, -1.7551e-01,  3.7264e-02, -1.1916e-01,\n",
       "          -8.6840e-02, -1.4667e-01,  6.5819e-02,  8.0097e-02,  2.9938e-02],\n",
       "         [ 7.5072e-02, -5.8560e-02,  4.0617e-03,  6.6237e-02,  1.0937e-01,\n",
       "           7.3578e-03, -3.5890e-01, -1.5660e-01,  4.4698e-02, -5.0527e-02,\n",
       "           1.7083e-01,  1.7196e-02, -2.0777e-01,  3.9275e-03,  1.7322e-01,\n",
       "          -5.1726e-02, -4.6508e-02,  1.2115e-01, -1.7804e-02,  4.2328e-02,\n",
       "           1.9476e-01,  1.4035e-02, -9.9745e-02, -2.6538e-02,  2.8159e-02,\n",
       "          -9.2849e-02, -6.9307e-02, -5.5090e-02,  1.5430e-01,  6.4060e-03],\n",
       "         [ 1.3743e-01, -4.2078e-02,  9.7760e-02, -4.6275e-02,  1.3070e-01,\n",
       "           2.0105e-01, -3.5095e-01, -1.3378e-01, -2.8586e-02, -6.6658e-02,\n",
       "           1.7350e-01,  4.4834e-02, -1.2419e-01,  6.7440e-02,  6.2054e-02,\n",
       "          -1.0614e-01, -5.3861e-03,  2.0941e-01,  1.5640e-02,  3.9870e-02,\n",
       "           6.5540e-02, -2.6432e-02, -1.6346e-01, -4.6212e-02, -5.1127e-02,\n",
       "          -4.8260e-03, -1.0323e-01, -7.4026e-02,  1.2390e-01, -7.1083e-02],\n",
       "         [ 7.5570e-02,  1.5018e-02,  1.3221e-01, -5.6688e-02,  1.1660e-01,\n",
       "           1.7954e-01, -2.8531e-01, -9.7415e-02,  3.7702e-02, -1.2824e-01,\n",
       "           2.2537e-01,  1.0648e-01, -1.1576e-01,  3.8582e-02,  5.2987e-02,\n",
       "          -2.5445e-02,  5.0688e-02, -2.8936e-02, -2.1923e-03,  6.9288e-02,\n",
       "           1.4502e-01,  4.6798e-02, -1.6800e-01, -3.7900e-02, -2.6451e-02,\n",
       "           3.9633e-03, -3.3140e-02, -1.6714e-03,  7.6946e-02,  2.4743e-02],\n",
       "         [ 1.1724e-01, -2.9707e-02,  4.4186e-03, -1.4534e-02,  1.2019e-01,\n",
       "           1.2061e-02, -3.2118e-01, -1.2011e-01,  3.2298e-02, -1.2433e-01,\n",
       "           1.7061e-01,  1.8231e-02, -4.9778e-02, -4.4711e-02,  5.9192e-02,\n",
       "           6.8810e-02, -3.8190e-02,  1.0676e-01, -3.8421e-02,  8.7082e-02,\n",
       "           2.5239e-01,  7.6604e-02, -2.6517e-01,  2.6211e-02, -2.1524e-02,\n",
       "           1.3672e-02, -9.0490e-02, -7.2956e-02,  2.1574e-01,  7.0587e-02],\n",
       "         [ 1.5109e-01,  9.3803e-03, -8.4992e-03, -9.9810e-02,  6.5387e-02,\n",
       "          -1.3930e-02, -2.1908e-01, -2.1150e-01, -9.9832e-04, -7.3030e-02,\n",
       "           1.9181e-01,  1.3008e-01, -1.5444e-01,  4.7417e-04,  1.6430e-01,\n",
       "          -1.9908e-02,  1.4087e-02,  1.7561e-02,  2.3265e-02,  1.9029e-02,\n",
       "           1.2770e-01,  8.7762e-02, -1.1699e-01, -2.8117e-02,  1.0378e-01,\n",
       "           1.4193e-02,  3.3843e-02,  2.0519e-02,  8.7377e-02,  1.1494e-01],\n",
       "         [ 1.6472e-01,  2.4477e-02,  1.3991e-01, -5.3674e-02,  1.0398e-01,\n",
       "           1.8950e-02, -3.0379e-01, -1.2130e-01,  1.1516e-01, -1.1045e-01,\n",
       "           5.3184e-02,  6.6664e-02, -4.2401e-02,  6.4952e-02,  6.8387e-02,\n",
       "          -4.2004e-02, -2.0105e-02,  1.0077e-01,  3.5255e-02, -3.5229e-02,\n",
       "           1.0772e-01, -3.3208e-02, -1.6760e-01, -1.6791e-01, -1.2747e-02,\n",
       "          -3.4926e-02,  5.9862e-03, -2.7860e-02,  1.3541e-01, -9.3693e-03],\n",
       "         [ 1.0182e-02,  5.7799e-02,  1.9118e-01, -4.9536e-02,  1.2505e-01,\n",
       "           5.9908e-02, -2.7508e-01, -2.1825e-01,  6.5459e-02, -6.1147e-02,\n",
       "           2.1140e-01,  1.1822e-02, -5.3712e-02,  8.7252e-02,  8.4237e-02,\n",
       "          -1.6486e-02, -2.4456e-02,  5.4089e-02,  2.1552e-03, -5.2692e-03,\n",
       "           2.0149e-01, -7.2141e-02, -2.3306e-01, -7.1840e-02, -3.0482e-02,\n",
       "          -3.2113e-02, -8.0206e-02,  5.7830e-02,  1.5501e-01, -7.6754e-02],\n",
       "         [ 8.7671e-02, -2.9877e-02,  9.8747e-02, -5.7205e-02,  2.7122e-01,\n",
       "           1.4509e-01, -2.5769e-01, -1.3919e-01, -1.6393e-05, -1.3677e-01,\n",
       "           1.7310e-01,  5.8755e-02, -1.4860e-01,  7.9601e-02,  3.4989e-02,\n",
       "          -1.0547e-01,  1.7729e-02,  1.2174e-01, -9.0739e-02,  2.9348e-02,\n",
       "           9.8479e-02, -2.9507e-02, -1.6214e-01, -9.6840e-02,  1.0598e-03,\n",
       "           1.5092e-02, -5.6273e-02,  9.4519e-03,  1.6221e-01, -1.2544e-02]],\n",
       "        device='cuda:0', grad_fn=<AddmmBackward>))"
      ]
     },
     "execution_count": 25,
     "metadata": {},
     "output_type": "execute_result"
    }
   ],
   "source": [
    "outputs=model(input_ids = input_ids,attention_mask=attention_mask,token_type_ids=token_type_ids,sub_mask=sub_mask, obj_mask=obj_mask,labels=labels)\n",
    "outputs"
   ]
  },
  {
   "cell_type": "code",
   "execution_count": 11,
   "id": "91851807-1c2d-4f3b-b8a2-644e7555b3ea",
   "metadata": {},
   "outputs": [
    {
     "data": {
      "text/plain": [
       "torch.Size([10, 238, 768])"
      ]
     },
     "execution_count": 11,
     "metadata": {},
     "output_type": "execute_result"
    }
   ],
   "source": [
    "logits=outputs.last_hidden_state\n",
    "logits.size()"
   ]
  },
  {
   "cell_type": "code",
   "execution_count": 22,
   "id": "12f80411-b1e7-4bbe-bdfd-82d55554cc68",
   "metadata": {},
   "outputs": [
    {
     "data": {
      "text/plain": [
       "[0.07206352800130844,\n",
       " 0.07456713914871216,\n",
       " -0.10029201954603195,\n",
       " -0.11513102054595947,\n",
       " 0.15977250039577484]"
      ]
     },
     "execution_count": 22,
     "metadata": {},
     "output_type": "execute_result"
    }
   ],
   "source": [
    "a=logits[1, 1, :5]\n",
    "b=logits[1, 5, :5]\n",
    "c=logits[1, 10, :5]\n",
    "d=logits[1, 16, :5]\n",
    "k=(2*a+2*b+c+d)/6\n",
    "k.tolist()"
   ]
  },
  {
   "cell_type": "code",
   "execution_count": 20,
   "id": "0b81034e-4fbb-4290-8fb3-3c4e5c3e4c96",
   "metadata": {},
   "outputs": [
    {
     "ename": "ValueError",
     "evalue": "0.0721 is not in list",
     "output_type": "error",
     "traceback": [
      "\u001b[0;31m---------------------------------------------------------------------------\u001b[0m",
      "\u001b[0;31mValueError\u001b[0m                                Traceback (most recent call last)",
      "\u001b[0;32m<ipython-input-20-f030466e139a>\u001b[0m in \u001b[0;36m<module>\u001b[0;34m\u001b[0m\n\u001b[1;32m      1\u001b[0m \u001b[0mk\u001b[0m\u001b[0;34m=\u001b[0m\u001b[0;34m(\u001b[0m\u001b[0;36m2\u001b[0m\u001b[0;34m*\u001b[0m\u001b[0ma\u001b[0m\u001b[0;34m+\u001b[0m\u001b[0;36m2\u001b[0m\u001b[0;34m*\u001b[0m\u001b[0mb\u001b[0m\u001b[0;34m+\u001b[0m\u001b[0mc\u001b[0m\u001b[0;34m+\u001b[0m\u001b[0md\u001b[0m\u001b[0;34m)\u001b[0m\u001b[0;34m/\u001b[0m\u001b[0;36m6\u001b[0m\u001b[0;34m\u001b[0m\u001b[0;34m\u001b[0m\u001b[0m\n\u001b[0;32m----> 2\u001b[0;31m \u001b[0mk\u001b[0m\u001b[0;34m.\u001b[0m\u001b[0mtolist\u001b[0m\u001b[0;34m(\u001b[0m\u001b[0;34m)\u001b[0m\u001b[0;34m.\u001b[0m\u001b[0mindex\u001b[0m\u001b[0;34m(\u001b[0m\u001b[0;36m0.0721\u001b[0m\u001b[0;34m)\u001b[0m\u001b[0;34m\u001b[0m\u001b[0;34m\u001b[0m\u001b[0m\n\u001b[0m",
      "\u001b[0;31mValueError\u001b[0m: 0.0721 is not in list"
     ]
    }
   ],
   "source": [
    "\n",
    "k.tolist().index(0.0721)"
   ]
  },
  {
   "cell_type": "code",
   "execution_count": 33,
   "id": "54733ada-bda8-4146-ba24-7079f485daca",
   "metadata": {},
   "outputs": [],
   "source": [
    "output_prob=[]\n",
    "output_pred=[]"
   ]
  },
  {
   "cell_type": "code",
   "execution_count": 34,
   "id": "3f3c4612-c433-4caa-bf6f-b90cb5c64c88",
   "metadata": {},
   "outputs": [],
   "source": [
    "for logit in logits:\n",
    "    prob = F.softmax(logit,dim=-1).detach().cpu().numpy().tolist()\n",
    "    logit = logit.detach().cpu().numpy()\n",
    "    result = np.argmax(logit)\n",
    "\n",
    "    output_prob.append(prob)\n",
    "    output_pred.append(result)"
   ]
  },
  {
   "cell_type": "code",
   "execution_count": 36,
   "id": "e667b5a8-48d0-4429-98fe-941e97816a64",
   "metadata": {},
   "outputs": [
    {
     "data": {
      "text/plain": [
       "[9, 13, 28, 23, 23, 28, 29, 28, 9, 28]"
      ]
     },
     "execution_count": 36,
     "metadata": {},
     "output_type": "execute_result"
    }
   ],
   "source": [
    "output_pred"
   ]
  },
  {
   "cell_type": "code",
   "execution_count": null,
   "id": "d7d3b802-4c56-4410-8cee-689a08b470fd",
   "metadata": {},
   "outputs": [],
   "source": []
  }
 ],
 "metadata": {
  "kernelspec": {
   "display_name": "Python 3 (ipykernel)",
   "language": "python",
   "name": "python3"
  },
  "language_info": {
   "codemirror_mode": {
    "name": "ipython",
    "version": 3
   },
   "file_extension": ".py",
   "mimetype": "text/x-python",
   "name": "python",
   "nbconvert_exporter": "python",
   "pygments_lexer": "ipython3",
   "version": "3.8.5"
  }
 },
 "nbformat": 4,
 "nbformat_minor": 5
}
