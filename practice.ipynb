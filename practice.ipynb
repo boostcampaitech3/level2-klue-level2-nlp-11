{
 "cells": [
  {
   "cell_type": "code",
   "execution_count": 38,
   "id": "286d8ff8-7997-4488-9d1e-0c93939a8c08",
   "metadata": {},
   "outputs": [],
   "source": [
    "from torch import nn\n",
    "import torch"
   ]
  },
  {
   "cell_type": "code",
   "execution_count": 39,
   "id": "3c20e60c-a422-43cf-89cd-ef38557e4db5",
   "metadata": {},
   "outputs": [],
   "source": [
    "sub_embeddings= nn.Embedding(2, 768)\n",
    "word_embeddings=nn.Embedding(50000,768)"
   ]
  },
  {
   "cell_type": "code",
   "execution_count": 40,
   "id": "7c53edce-da7c-40aa-a724-49d2940bec3a",
   "metadata": {},
   "outputs": [],
   "source": [
    "sub_embeds=torch.tensor([1,0,1,0,1,0,0,0,0])\n",
    "input_ids=torch.tensor([0,20,30,40,5406,760,10,11,11])"
   ]
  },
  {
   "cell_type": "code",
   "execution_count": 41,
   "id": "69414d13-3ed0-44f2-9586-31294a0c56e7",
   "metadata": {},
   "outputs": [],
   "source": [
    "sub_embeddings=sub_embeddings(sub_embeds)"
   ]
  },
  {
   "cell_type": "code",
   "execution_count": 50,
   "id": "46233f10-4e1c-4639-a850-c8415eae7421",
   "metadata": {},
   "outputs": [
    {
     "data": {
      "text/plain": [
       "torch.Size([9, 768])"
      ]
     },
     "execution_count": 50,
     "metadata": {},
     "output_type": "execute_result"
    }
   ],
   "source": [
    "sub_embeddings.size()"
   ]
  },
  {
   "cell_type": "code",
   "execution_count": 51,
   "id": "77eb8555-f45e-4022-a931-fa8102907615",
   "metadata": {},
   "outputs": [],
   "source": [
    "inputs_embeds = word_embeddings(input_ids)"
   ]
  },
  {
   "cell_type": "code",
   "execution_count": 52,
   "id": "a41e5c4b-89c8-41d5-a383-1281369ae55d",
   "metadata": {},
   "outputs": [
    {
     "data": {
      "text/plain": [
       "torch.Size([9, 768])"
      ]
     },
     "execution_count": 52,
     "metadata": {},
     "output_type": "execute_result"
    }
   ],
   "source": [
    "inputs_embeds.size()"
   ]
  },
  {
   "cell_type": "code",
   "execution_count": 53,
   "id": "f663ee78-c5a3-483d-b3fa-a2c0cda66a6e",
   "metadata": {},
   "outputs": [
    {
     "data": {
      "text/plain": [
       "tensor([[ 0.8486,  2.7824,  0.7613,  ..., -0.9183,  0.6899, -2.0677],\n",
       "        [-0.8469,  0.3472,  0.1395,  ...,  0.4518, -0.7103, -2.4336],\n",
       "        [ 0.2999,  1.5138,  0.4278,  ..., -1.7812, -1.5564, -1.1940],\n",
       "        ...,\n",
       "        [-0.5363,  0.7098, -0.1143,  ...,  0.4191, -0.0390, -2.0499],\n",
       "        [-1.0292,  1.6380,  0.1264,  ..., -0.3865,  0.5641, -1.0795],\n",
       "        [-1.0292,  1.6380,  0.1264,  ..., -0.3865,  0.5641, -1.0795]],\n",
       "       grad_fn=<AddBackward0>)"
      ]
     },
     "execution_count": 53,
     "metadata": {},
     "output_type": "execute_result"
    }
   ],
   "source": [
    "inputs_embeds+sub_embeddings"
   ]
  },
  {
   "cell_type": "code",
   "execution_count": null,
   "id": "6a3f2cf6-5580-4652-8760-8b78804061f7",
   "metadata": {},
   "outputs": [],
   "source": []
  }
 ],
 "metadata": {
  "kernelspec": {
   "display_name": "Python 3 (ipykernel)",
   "language": "python",
   "name": "python3"
  },
  "language_info": {
   "codemirror_mode": {
    "name": "ipython",
    "version": 3
   },
   "file_extension": ".py",
   "mimetype": "text/x-python",
   "name": "python",
   "nbconvert_exporter": "python",
   "pygments_lexer": "ipython3",
   "version": "3.8.5"
  }
 },
 "nbformat": 4,
 "nbformat_minor": 5
}
